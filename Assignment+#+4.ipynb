{
 "cells": [
  {
   "cell_type": "code",
   "execution_count": 1,
   "metadata": {},
   "outputs": [
    {
     "name": "stdout",
     "output_type": "stream",
     "text": [
      "first_name : madeha\n",
      "last_name : memon\n",
      "age : 24\n",
      "city : hyderabad\n",
      "updated  {'first_name': 'madeha', 'last_name': 'memon', 'age': 24, 'city': 'hyderabad', 'qualification': 'BE CSE'}\n",
      "after deleting {'first_name': 'madeha', 'last_name': 'memon', 'age': 24, 'city': 'hyderabad'}\n"
     ]
    }
   ],
   "source": [
    "#QUESTION NO: 1\n",
    "dict={'first_name':'madeha','last_name':\"memon\",'age':24,'city':\"hyderabad\"}\n",
    "for k,v in dict.items():\n",
    "    print(k,\":\",v)\n",
    "new={\"qualification\":\"BE CSE\"}\n",
    "dict.update(new)\n",
    "print(\"updated \",dict)\n",
    "dict.pop(\"qualification\")\n",
    "print(\"after deleting\",dict)"
   ]
  },
  {
   "cell_type": "code",
   "execution_count": 2,
   "metadata": {},
   "outputs": [
    {
     "name": "stdout",
     "output_type": "stream",
     "text": [
      "hyderabad INFO : {'country': 'Pakistan', 'population': '20 M', 'fact': 'trading hub'}\n",
      "mumbai INFO : {'country': 'India', 'population': '200 M', 'fact': '2ND BIGGEST popuLATION'}\n",
      "disney land INFO : {'country': 'Australia', 'population': '5 M', 'fact': 'Opera house'}\n"
     ]
    }
   ],
   "source": [
    "##QUESTION NO: 2\n",
    "cities={\"hyderabad\":{\"country\":\"Pakistan\",\"population\":\"20 M\",\"fact\":\"trading hub\"},\n",
    "        \"mumbai\":{\"country\":\"India\",\"population\":\"200 M\",\"fact\":\"2ND BIGGEST popuLATION\"},\n",
    "        \"disney land\":{\"country\":\"Australia\",\"population\":\"5 M\",\"fact\":\"Opera house\"}}\n",
    "for k,v in cities.items():\n",
    "    print(k,\"INFO :\",v)"
   ]
  },
  {
   "cell_type": "code",
   "execution_count": null,
   "metadata": {
    "collapsed": true
   },
   "outputs": [],
   "source": [
    "#QUESTION NO : 3\n",
    "        print(\"Your ticket is free\")\n",
    "    elif n>=3 and n<12:\n",
    "        print(\"Your price is:\",10,\"$\")3\n",
    "    elif n>=12:\n",
    "        print(\"Your price is:\",15,\"$\")"
   ]
  },
  {
   "cell_type": "code",
   "execution_count": 3,
   "metadata": {},
   "outputs": [
    {
     "name": "stdout",
     "output_type": "stream",
     "text": [
      "MY FAV BOOK IS THE SUBTLE ART OF NOT GIVING A F*CK.\n"
     ]
    }
   ],
   "source": [
    "#QUESTION NO: 4\n",
    "def fav_book(title):\n",
    "    print(\"MY FAV BOOK IS\",title)\n",
    "fav_book(\"THE SUBTLE ART OF NOT GIVING A F*CK.\")"
   ]
  },
  {
   "cell_type": "code",
   "execution_count": null,
   "metadata": {},
   "outputs": [
    {
     "name": "stdout",
     "output_type": "stream",
     "text": [
      "14\n",
      "Enter Your GUESS21\n",
      "HINT : you entered larger number\n",
      "CHANCE NO 1\n",
      "Enter Your GUESS3\n",
      "HINT : You entered smaller number\n",
      "CHANCE NO 2\n"
     ]
    }
   ],
   "source": [
    "#QUESTION NO: 5\n",
    "import random\n",
    "number=random.randint(1,24)\n",
    "print(number)\n",
    "chances=0\n",
    "while chances<3:\n",
    "    guess=int(input('Enter Your GUESS'))\n",
    "    if number<guess:\n",
    "        print(\"HINT : you entered larger number\")\n",
    "        chances=chances+1\n",
    "        print(\"CHANCE NO\",chances)\n",
    "    elif number>guess:\n",
    "        print(\"HINT : You entered smaller number\")\n",
    "        chances=chances+1\n",
    "        print(\"CHANCE NO\",chances)\n",
    "    elif number==guess:\n",
    "        print(\"You won\")\n",
    "    elif chances==3:\n",
    "        PRINT(\"YOU LOST\")"
   ]
  },
  {
   "cell_type": "code",
   "execution_count": null,
   "metadata": {
    "collapsed": true
   },
   "outputs": [],
   "source": []
  },
  {
   "cell_type": "code",
   "execution_count": null,
   "metadata": {
    "collapsed": true
   },
   "outputs": [],
   "source": []
  },
  {
   "cell_type": "code",
   "execution_count": null,
   "metadata": {
    "collapsed": true
   },
   "outputs": [],
   "source": []
  }
 ],
 "metadata": {
  "kernelspec": {
   "display_name": "Python 3",
   "language": "python",
   "name": "python3"
  },
  "language_info": {
   "codemirror_mode": {
    "name": "ipython",
    "version": 3
   },
   "file_extension": ".py",
   "mimetype": "text/x-python",
   "name": "python",
   "nbconvert_exporter": "python",
   "pygments_lexer": "ipython3",
   "version": "3.6.3"
  }
 },
 "nbformat": 4,
 "nbformat_minor": 2
}
